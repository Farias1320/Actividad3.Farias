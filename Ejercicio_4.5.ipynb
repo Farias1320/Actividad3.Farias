{
 "cells": [
  {
   "cell_type": "code",
   "execution_count": 3,
   "id": "caa39850",
   "metadata": {},
   "outputs": [
    {
     "name": "stdout",
     "output_type": "stream",
     "text": [
      "El número más pequeño: 1\n",
      "El número más grande: 1000000\n",
      "Suma: 500000500000\n"
     ]
    }
   ],
   "source": [
    "# 4-5. Suma de un millón\n",
    "# Creamos la lista y usamos min(), max() y sum() para comprobar los valores.\n",
    "numeros = list(range(1, 1_000_001))\n",
    "print(\"El número más pequeño:\", min(numeros))  # Debería mostrar 1\n",
    "print(\"El número más grande:\", max(numeros))  # Debería mostrar 1,000,000\n",
    "\n",
    "#Sumando todos los números\n",
    "print(\"Suma:\", sum(numeros))    # Suma de todos los números"
   ]
  }
 ],
 "metadata": {
  "kernelspec": {
   "display_name": "Python 3",
   "language": "python",
   "name": "python3"
  },
  "language_info": {
   "codemirror_mode": {
    "name": "ipython",
    "version": 3
   },
   "file_extension": ".py",
   "mimetype": "text/x-python",
   "name": "python",
   "nbconvert_exporter": "python",
   "pygments_lexer": "ipython3",
   "version": "3.10.11"
  }
 },
 "nbformat": 4,
 "nbformat_minor": 5
}
