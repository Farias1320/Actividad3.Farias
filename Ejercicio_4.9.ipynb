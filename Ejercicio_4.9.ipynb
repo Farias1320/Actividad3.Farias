{
 "cells": [
  {
   "cell_type": "code",
   "execution_count": 3,
   "id": "71babc1c",
   "metadata": {},
   "outputs": [
    {
     "name": "stdout",
     "output_type": "stream",
     "text": [
      "[1, 8, 27, 64, 125, 216, 343, 512, 729, 1000]\n"
     ]
    }
   ],
   "source": [
    "# 4-9. Comprensión de listas: cubos\n",
    "# Usamos una comprensión de listas para generar una lista de los primeros 10 números. \n",
    "cubos = [numero ** 3 for numero in range(1, 11)]\n",
    "print(cubos)"
   ]
  }
 ],
 "metadata": {
  "kernelspec": {
   "display_name": "Python 3",
   "language": "python",
   "name": "python3"
  },
  "language_info": {
   "codemirror_mode": {
    "name": "ipython",
    "version": 3
   },
   "file_extension": ".py",
   "mimetype": "text/x-python",
   "name": "python",
   "nbconvert_exporter": "python",
   "pygments_lexer": "ipython3",
   "version": "3.10.11"
  }
 },
 "nbformat": 4,
 "nbformat_minor": 5
}
