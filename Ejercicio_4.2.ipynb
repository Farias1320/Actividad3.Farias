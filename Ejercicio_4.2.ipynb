{
 "cells": [
  {
   "cell_type": "code",
   "execution_count": 1,
   "id": "c485fa02",
   "metadata": {},
   "outputs": [
    {
     "name": "stdout",
     "output_type": "stream",
     "text": [
      "perro\n",
      "hamster\n",
      "loro\n",
      "\n",
      "Declaraciones:\n",
      "Un perro puede ser un amigo fiel y cariñoso.\n",
      "Un hamster puede ser un amigo fiel y cariñoso.\n",
      "Un loro puede ser un amigo fiel y cariñoso.\n",
      "\n",
      "Todos estos animales pueden brindar compañía y alegría a cualquier hogar.\n"
     ]
    }
   ],
   "source": [
    "#4.2 Animales \n",
    "# Lista de animales\n",
    "animales = ['perro', 'hamster', 'loro']\n",
    "\n",
    "# Bucle para imprimir cada animal\n",
    "for animal in animales:\n",
    "    print(animal)\n",
    "\n",
    "# Recorre la lista y muestra una frase personalizada para cada animal\n",
    "print(\"\\nDeclaraciones:\")\n",
    "for animal in animales:\n",
    "    print(f\"Un {animal} puede ser un amigo fiel y cariñoso.\")\n",
    "\n",
    "# Mensaje final fuera del bucle\n",
    "print(\"\\nTodos estos animales pueden brindar compañía y alegría a cualquier hogar.\")"
   ]
  }
 ],
 "metadata": {
  "kernelspec": {
   "display_name": "Python 3",
   "language": "python",
   "name": "python3"
  },
  "language_info": {
   "codemirror_mode": {
    "name": "ipython",
    "version": 3
   },
   "file_extension": ".py",
   "mimetype": "text/x-python",
   "name": "python",
   "nbconvert_exporter": "python",
   "pygments_lexer": "ipython3",
   "version": "3.10.11"
  }
 },
 "nbformat": 4,
 "nbformat_minor": 5
}
