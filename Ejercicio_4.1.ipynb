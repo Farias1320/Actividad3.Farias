{
 "cells": [
  {
   "cell_type": "code",
   "execution_count": 2,
   "id": "d8533e98",
   "metadata": {},
   "outputs": [
    {
     "name": "stdout",
     "output_type": "stream",
     "text": [
      "pepperoni\n",
      "hawaiana\n",
      "margherita\n",
      "\n",
      "Frases:\n",
      "Me gusta la pizza de pepperoni.\n",
      "Me gusta la pizza de hawaiana.\n",
      "Me gusta la pizza de margherita.\n",
      "\n",
      "¡Realmente me encanta la pizza! Siempre disfruto probar nuevos sabores.\n",
      "Mi favorita es la de pepperoni.\n"
     ]
    }
   ],
   "source": [
    "# 4.1 Tipos de pizza\n",
    "# Lista de mis tipos de pizza favoritos\n",
    "pizzas = ['pepperoni', 'hawaiana', 'margherita']\n",
    "\n",
    "# Bucle para imprimir cada tipo de pizza\n",
    "for pizza in pizzas:\n",
    "    print(pizza)\n",
    "\n",
    "# Imprime una frase personalizada para cada tipo de pizza\n",
    "print(\"\\nFrases:\")\n",
    "for pizza in pizzas:\n",
    "    print(f\"Me gusta la pizza de {pizza}.\")\n",
    "\n",
    "# Mensaje final fuera del bucle\n",
    "print(\"\\n¡Realmente me encanta la pizza! Siempre disfruto probar nuevos sabores.\")\n",
    "print(\"Mi favorita es la de pepperoni.\")"
   ]
  }
 ],
 "metadata": {
  "kernelspec": {
   "display_name": "Python 3",
   "language": "python",
   "name": "python3"
  },
  "language_info": {
   "codemirror_mode": {
    "name": "ipython",
    "version": 3
   },
   "file_extension": ".py",
   "mimetype": "text/x-python",
   "name": "python",
   "nbconvert_exporter": "python",
   "pygments_lexer": "ipython3",
   "version": "3.10.11"
  }
 },
 "nbformat": 4,
 "nbformat_minor": 5
}
